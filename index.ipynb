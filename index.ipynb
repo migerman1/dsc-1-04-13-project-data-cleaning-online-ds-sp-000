{
 "cells": [
  {
   "cell_type": "markdown",
   "metadata": {},
   "source": [
    "# Project - Data Cleaning\n",
    "\n",
    "## Introduction\n",
    "In this lab, we'll make use of everything we've learned about pandas, data cleaning, and Exploratory Data Analysis. In order to complete this lab, you'll have to make import, clean, combine, reshape, and visualize data to answer questions provided, as well as your own questions!\n",
    "\n",
    "## Objectives\n",
    "You will be able to:\n",
    "* Show mastery of the content covered in this section\n",
    "\n",
    "## The Dataset\n",
    "In this lab, we'll work with the comprehensive [Super Heroes Dataset](https://www.kaggle.com/claudiodavi/superhero-set/data), which can be found on Kaggle!\n",
    "\n",
    "## Goals\n",
    "* Use all available pandas knowledge to clean the dataset and deal with null values\n",
    "* Use Queries and aggregations to group the data into interesting subsets as needed\n",
    "* Use descriptive statistics and data visualization to find answers to questions we may have about the data. \n",
    "\n",
    "## Getting Started\n",
    "\n",
    "In the cell below:\n",
    "\n",
    "* Import and alias pandas as `pd`\n",
    "* Import and alias numpy as `np`\n",
    "* Import and alias seaborn as `sns`\n",
    "* Import and alias matplotlib.pyplot as `plt`\n",
    "* Set matplotlib visualizations to display inline in the notebook"
   ]
  },
  {
   "cell_type": "code",
   "execution_count": 1,
   "metadata": {},
   "outputs": [],
   "source": [
    "import pandas as pd\n",
    "import numpy as np\n",
    "import seaborn as sns\n",
    "import matplotlib.pyplot as plt\n",
    "%matplotlib inline\n",
    "plt.style.use('ggplot')"
   ]
  },
  {
   "cell_type": "markdown",
   "metadata": {},
   "source": [
    "For this lab, our dataset is split among two different sources--`heroes_information.csv` and `super_hero_powers.csv`.\n",
    "\n",
    "Use pandas to read in each file and store them in DataFrames in the appropriate variables below. Then, display the head of each to ensure that everything loaded correctly.  "
   ]
  },
  {
   "cell_type": "code",
   "execution_count": 2,
   "metadata": {},
   "outputs": [
    {
     "data": {
      "text/html": [
       "<div>\n",
       "<style scoped>\n",
       "    .dataframe tbody tr th:only-of-type {\n",
       "        vertical-align: middle;\n",
       "    }\n",
       "\n",
       "    .dataframe tbody tr th {\n",
       "        vertical-align: top;\n",
       "    }\n",
       "\n",
       "    .dataframe thead th {\n",
       "        text-align: right;\n",
       "    }\n",
       "</style>\n",
       "<table border=\"1\" class=\"dataframe\">\n",
       "  <thead>\n",
       "    <tr style=\"text-align: right;\">\n",
       "      <th></th>\n",
       "      <th>Unnamed: 0</th>\n",
       "      <th>name</th>\n",
       "      <th>Gender</th>\n",
       "      <th>Eye color</th>\n",
       "      <th>Race</th>\n",
       "      <th>Hair color</th>\n",
       "      <th>Height</th>\n",
       "      <th>Publisher</th>\n",
       "      <th>Skin color</th>\n",
       "      <th>Alignment</th>\n",
       "      <th>Weight</th>\n",
       "    </tr>\n",
       "  </thead>\n",
       "  <tbody>\n",
       "    <tr>\n",
       "      <th>0</th>\n",
       "      <td>0</td>\n",
       "      <td>A-Bomb</td>\n",
       "      <td>Male</td>\n",
       "      <td>yellow</td>\n",
       "      <td>Human</td>\n",
       "      <td>No Hair</td>\n",
       "      <td>203.0</td>\n",
       "      <td>Marvel Comics</td>\n",
       "      <td>-</td>\n",
       "      <td>good</td>\n",
       "      <td>441.0</td>\n",
       "    </tr>\n",
       "    <tr>\n",
       "      <th>1</th>\n",
       "      <td>1</td>\n",
       "      <td>Abe Sapien</td>\n",
       "      <td>Male</td>\n",
       "      <td>blue</td>\n",
       "      <td>Icthyo Sapien</td>\n",
       "      <td>No Hair</td>\n",
       "      <td>191.0</td>\n",
       "      <td>Dark Horse Comics</td>\n",
       "      <td>blue</td>\n",
       "      <td>good</td>\n",
       "      <td>65.0</td>\n",
       "    </tr>\n",
       "    <tr>\n",
       "      <th>2</th>\n",
       "      <td>2</td>\n",
       "      <td>Abin Sur</td>\n",
       "      <td>Male</td>\n",
       "      <td>blue</td>\n",
       "      <td>Ungaran</td>\n",
       "      <td>No Hair</td>\n",
       "      <td>185.0</td>\n",
       "      <td>DC Comics</td>\n",
       "      <td>red</td>\n",
       "      <td>good</td>\n",
       "      <td>90.0</td>\n",
       "    </tr>\n",
       "    <tr>\n",
       "      <th>3</th>\n",
       "      <td>3</td>\n",
       "      <td>Abomination</td>\n",
       "      <td>Male</td>\n",
       "      <td>green</td>\n",
       "      <td>Human / Radiation</td>\n",
       "      <td>No Hair</td>\n",
       "      <td>203.0</td>\n",
       "      <td>Marvel Comics</td>\n",
       "      <td>-</td>\n",
       "      <td>bad</td>\n",
       "      <td>441.0</td>\n",
       "    </tr>\n",
       "    <tr>\n",
       "      <th>4</th>\n",
       "      <td>4</td>\n",
       "      <td>Abraxas</td>\n",
       "      <td>Male</td>\n",
       "      <td>blue</td>\n",
       "      <td>Cosmic Entity</td>\n",
       "      <td>Black</td>\n",
       "      <td>-99.0</td>\n",
       "      <td>Marvel Comics</td>\n",
       "      <td>-</td>\n",
       "      <td>bad</td>\n",
       "      <td>-99.0</td>\n",
       "    </tr>\n",
       "  </tbody>\n",
       "</table>\n",
       "</div>"
      ],
      "text/plain": [
       "   Unnamed: 0         name Gender Eye color               Race Hair color  \\\n",
       "0           0       A-Bomb   Male    yellow              Human    No Hair   \n",
       "1           1   Abe Sapien   Male      blue      Icthyo Sapien    No Hair   \n",
       "2           2     Abin Sur   Male      blue            Ungaran    No Hair   \n",
       "3           3  Abomination   Male     green  Human / Radiation    No Hair   \n",
       "4           4      Abraxas   Male      blue      Cosmic Entity      Black   \n",
       "\n",
       "   Height          Publisher Skin color Alignment  Weight  \n",
       "0   203.0      Marvel Comics          -      good   441.0  \n",
       "1   191.0  Dark Horse Comics       blue      good    65.0  \n",
       "2   185.0          DC Comics        red      good    90.0  \n",
       "3   203.0      Marvel Comics          -       bad   441.0  \n",
       "4   -99.0      Marvel Comics          -       bad   -99.0  "
      ]
     },
     "execution_count": 2,
     "metadata": {},
     "output_type": "execute_result"
    }
   ],
   "source": [
    "heroes_df = pd.read_csv('heroes_information.csv')\n",
    "powers_df = pd.read_csv('super_hero_powers.csv')\n",
    "heroes_df.head()\n",
    "#powers_df.head()"
   ]
  },
  {
   "cell_type": "markdown",
   "metadata": {},
   "source": [
    "It looks as if the heroes information dataset contained an index column.  We did not specify that this dataset contained an index column, because we hadn't seen it yet. Pandas does not know how to tell apart an index column from any other data, so it stored it with the column name `Unnamed: 0`.  \n",
    "\n",
    "Our DataFrame provided row indices by default, so this column is not needed.  Drop it from the DataFrame in place in the cell below, and then display the head of `heroes_df` to ensure that it worked properly. "
   ]
  },
  {
   "cell_type": "code",
   "execution_count": 3,
   "metadata": {},
   "outputs": [],
   "source": [
    "heroes_df.drop(['Unnamed: 0'], axis = 1, inplace = True)"
   ]
  },
  {
   "cell_type": "markdown",
   "metadata": {},
   "source": [
    "## Familiarize Yourself With the Dataset\n",
    "\n",
    "The first step in our Exploratory Data Analysis will be to get familiar with the data.  This step includes:\n",
    "\n",
    "* Understanding the dimensionality of your dataset\n",
    "* Investigating what type of data it contains, and the data types used to store it\n",
    "* Discovering how missing values are encoded, and how many there are\n",
    "* Getting a feel for what information it does and doesnt contain\n",
    "\n",
    "In the cell below, get the descriptive statistics of each DataFrame.  "
   ]
  },
  {
   "cell_type": "code",
   "execution_count": 4,
   "metadata": {},
   "outputs": [
    {
     "name": "stdout",
     "output_type": "stream",
     "text": [
      "Spider-Man          3\n",
      "Goliath             3\n",
      "Batman              2\n",
      "Vindicator          2\n",
      "Batgirl             2\n",
      "Toxin               2\n",
      "Black Canary        2\n",
      "Namor               2\n",
      "Atlas               2\n",
      "Blue Beetle         2\n",
      "Angel               2\n",
      "Firestorm           2\n",
      "Blizzard            2\n",
      "Captain Marvel      2\n",
      "Speedy              2\n",
      "Nova                2\n",
      "Atom                2\n",
      "Cyborg Superman     1\n",
      "Nebula              1\n",
      "Chromos             1\n",
      "Hawk                1\n",
      "Exodus              1\n",
      "Venom III           1\n",
      "Demogoblin          1\n",
      "Billy Kincaid       1\n",
      "Hellstorm           1\n",
      "Walrus              1\n",
      "Steel               1\n",
      "Violator            1\n",
      "Aquababy            1\n",
      "                   ..\n",
      "Living Tribunal     1\n",
      "Shrinking Violet    1\n",
      "Junkpile            1\n",
      "Clea                1\n",
      "Predator            1\n",
      "Doctor Fate         1\n",
      "JJ Powell           1\n",
      "Stargirl            1\n",
      "Bolt                1\n",
      "Abe Sapien          1\n",
      "Magog               1\n",
      "Harry Potter        1\n",
      "Doc Samson          1\n",
      "Angel Dust          1\n",
      "Man-Wolf            1\n",
      "Kilowog             1\n",
      "Ariel               1\n",
      "Shadow King         1\n",
      "Odin                1\n",
      "Mister Sinister     1\n",
      "Katniss Everdeen    1\n",
      "Faora               1\n",
      "Citizen Steel       1\n",
      "Multiple Man        1\n",
      "Quicksilver         1\n",
      "Thunderbird         1\n",
      "Blackout            1\n",
      "Liz Sherman         1\n",
      "Century             1\n",
      "Triton              1\n",
      "Name: name, Length: 715, dtype: int64\n",
      "Male      505\n",
      "Female    200\n",
      "-          29\n",
      "Name: Gender, dtype: int64\n",
      "blue                       225\n",
      "-                          172\n",
      "brown                      126\n",
      "green                       73\n",
      "red                         46\n",
      "black                       23\n",
      "yellow                      19\n",
      "white                       17\n",
      "hazel                        6\n",
      "grey                         6\n",
      "purple                       4\n",
      "gold                         3\n",
      "violet                       2\n",
      "yellow (without irises)      2\n",
      "amber                        2\n",
      "silver                       1\n",
      "yellow / blue                1\n",
      "indigo                       1\n",
      "bown                         1\n",
      "green / blue                 1\n",
      "white / red                  1\n",
      "blue / white                 1\n",
      "yellow / red                 1\n",
      "Name: Eye color, dtype: int64\n",
      "-                     304\n",
      "Human                 208\n",
      "Mutant                 63\n",
      "God / Eternal          14\n",
      "Human / Radiation      11\n",
      "Cyborg                 11\n",
      "Android                 9\n",
      "Symbiote                9\n",
      "Kryptonian              7\n",
      "Alien                   7\n",
      "Demon                   6\n",
      "Atlantean               5\n",
      "Alpha                   5\n",
      "Asgardian               5\n",
      "Cosmic Entity           4\n",
      "Animal                  4\n",
      "Inhuman                 4\n",
      "New God                 3\n",
      "Human / Altered         3\n",
      "Vampire                 2\n",
      "Human / Cosmic          2\n",
      "Amazon                  2\n",
      "Metahuman               2\n",
      "Eternal                 2\n",
      "Demi-God                2\n",
      "Frost Giant             2\n",
      "Human-Kree              2\n",
      "Saiyan                  2\n",
      "Talokite                1\n",
      "Ungaran                 1\n",
      "                     ... \n",
      "Korugaran               1\n",
      "Strontian               1\n",
      "Kaiju                   1\n",
      "Clone                   1\n",
      "Human-Vuldarian         1\n",
      "Zen-Whoberian           1\n",
      "Yautja                  1\n",
      "Bizarro                 1\n",
      "Human-Vulcan            1\n",
      "Dathomirian Zabrak      1\n",
      "Tamaranean              1\n",
      "Gungan                  1\n",
      "Parademon               1\n",
      "Icthyo Sapien           1\n",
      "Czarnian                1\n",
      "Martian                 1\n",
      "Spartoi                 1\n",
      "Rodian                  1\n",
      "Mutant / Clone          1\n",
      "Human-Spartoi           1\n",
      "Neyaphem                1\n",
      "Zombie                  1\n",
      "Yoda's species          1\n",
      "Gorilla                 1\n",
      "Maiar                   1\n",
      "Xenomorph XX121         1\n",
      "Bolovaxian              1\n",
      "Planet                  1\n",
      "Human / Clone           1\n",
      "Luphomoid               1\n",
      "Name: Race, Length: 62, dtype: int64\n",
      "-                   172\n",
      "Black               158\n",
      "Blond                99\n",
      "Brown                86\n",
      "No Hair              75\n",
      "Red                  51\n",
      "White                23\n",
      "Auburn               13\n",
      "Green                 8\n",
      "Strawberry Blond      7\n",
      "Grey                  5\n",
      "Purple                5\n",
      "Silver                4\n",
      "Brown / White         4\n",
      "black                 3\n",
      "Blue                  3\n",
      "blond                 3\n",
      "Orange                2\n",
      "Yellow                2\n",
      "Magenta               1\n",
      "Orange / White        1\n",
      "Red / Orange          1\n",
      "Red / White           1\n",
      "Black / Blue          1\n",
      "Pink                  1\n",
      "Red / Grey            1\n",
      "Brown / Black         1\n",
      "Indigo                1\n",
      "Gold                  1\n",
      "Brownn                1\n",
      "Name: Hair color, dtype: int64\n",
      "-99.0     217\n",
      " 183.0     59\n",
      " 188.0     51\n",
      " 178.0     39\n",
      " 180.0     38\n",
      " 185.0     35\n",
      " 175.0     34\n",
      " 168.0     29\n",
      " 170.0     26\n",
      " 165.0     26\n",
      " 191.0     21\n",
      " 193.0     21\n",
      " 198.0     18\n",
      " 173.0     17\n",
      " 201.0     11\n",
      " 196.0     11\n",
      " 163.0      8\n",
      " 213.0      7\n",
      " 203.0      5\n",
      " 211.0      5\n",
      " 157.0      5\n",
      " 244.0      4\n",
      " 229.0      3\n",
      " 155.0      3\n",
      " 218.0      3\n",
      " 226.0      3\n",
      " 122.0      2\n",
      " 206.0      2\n",
      " 279.0      2\n",
      " 366.0      2\n",
      " 137.0      2\n",
      " 30.5       2\n",
      " 305.0      2\n",
      " 61.0       1\n",
      " 975.0      1\n",
      " 142.0      1\n",
      " 287.0      1\n",
      " 267.0      1\n",
      " 304.8      1\n",
      " 701.0      1\n",
      " 876.0      1\n",
      " 259.0      1\n",
      " 15.2       1\n",
      " 297.0      1\n",
      " 257.0      1\n",
      " 62.5       1\n",
      " 66.0       1\n",
      " 160.0      1\n",
      " 140.0      1\n",
      " 234.0      1\n",
      " 71.0       1\n",
      " 79.0       1\n",
      " 108.0      1\n",
      " 64.0       1\n",
      "Name: Height, dtype: int64\n",
      "Marvel Comics        388\n",
      "DC Comics            215\n",
      "NBC - Heroes          19\n",
      "Dark Horse Comics     18\n",
      "Image Comics          14\n",
      "George Lucas          14\n",
      "Star Trek              6\n",
      "HarperCollins          6\n",
      "SyFy                   5\n",
      "Team Epic TV           5\n",
      "Icon Comics            4\n",
      "Shueisha               4\n",
      "IDW Publishing         4\n",
      "ABC Studios            4\n",
      "Wildstorm              3\n",
      "Sony Pictures          2\n",
      "Universal Studios      1\n",
      "Hanna-Barbera          1\n",
      "Rebellion              1\n",
      "J. R. R. Tolkien       1\n",
      "Titan Books            1\n",
      "South Park             1\n",
      "Microsoft              1\n",
      "J. K. Rowling          1\n",
      "Name: Publisher, dtype: int64\n",
      "-                 662\n",
      "green              21\n",
      "red                 9\n",
      "blue                9\n",
      "white               7\n",
      "silver              5\n",
      "grey                5\n",
      "gold                3\n",
      "purple              3\n",
      "pink                2\n",
      "yellow              2\n",
      "black               1\n",
      "blue-white          1\n",
      "red / black         1\n",
      "orange              1\n",
      "orange / white      1\n",
      "gray                1\n",
      "Name: Skin color, dtype: int64\n",
      "good       496\n",
      "bad        207\n",
      "neutral     24\n",
      "-            7\n",
      "Name: Alignment, dtype: int64\n",
      "-99.0     237\n",
      " 79.0      23\n",
      " 54.0      23\n",
      " 81.0      22\n",
      " 90.0      19\n",
      " 52.0      15\n",
      " 86.0      15\n",
      " 59.0      14\n",
      " 56.0      13\n",
      " 77.0      13\n",
      " 61.0      13\n",
      " 101.0     12\n",
      " 50.0      12\n",
      " 88.0      11\n",
      " 63.0      11\n",
      " 83.0      10\n",
      " 95.0      10\n",
      " 74.0      10\n",
      " 65.0       9\n",
      " 72.0       8\n",
      " 68.0       8\n",
      " 104.0      8\n",
      " 135.0      8\n",
      " 57.0       7\n",
      " 97.0       7\n",
      " 99.0       7\n",
      " 117.0      6\n",
      " 108.0      6\n",
      " 55.0       5\n",
      " 70.0       5\n",
      "         ... \n",
      " 14.0       1\n",
      " 356.0      1\n",
      " 105.0      1\n",
      " 324.0      1\n",
      " 360.0      1\n",
      " 236.0      1\n",
      " 36.0       1\n",
      " 140.0      1\n",
      " 128.0      1\n",
      " 248.0      1\n",
      " 16.0       1\n",
      " 45.0       1\n",
      " 234.0      1\n",
      " 96.0       1\n",
      " 82.0       1\n",
      " 76.0       1\n",
      " 198.0      1\n",
      " 116.0      1\n",
      " 176.0      1\n",
      " 170.0      1\n",
      " 47.0       1\n",
      " 78.0       1\n",
      " 27.0       1\n",
      " 25.0       1\n",
      " 178.0      1\n",
      " 132.0      1\n",
      " 38.0       1\n",
      " 412.0      1\n",
      " 320.0      1\n",
      " 855.0      1\n",
      "Name: Weight, Length: 135, dtype: int64\n"
     ]
    }
   ],
   "source": [
    "#heroes_df.Publisher.value_counts()\n",
    "for n in range(0, len(heroes_df.columns)):\n",
    "    print(heroes_df[heroes_df.columns[n]].value_counts())\n",
    "\n",
    "# heroes_df Missing Values\n",
    "# Encoding: \n",
    "# Gender: - ; Eye Color: - ; Race: - (Majority); Hair Color: - (majority); Height: -99 (majority); \n",
    "# Skin color: - (over 90%); ALignment: - (<1%); Weight: -99 (large majority)\n",
    "\n",
    "# powers_df Missing Values: none?"
   ]
  },
  {
   "cell_type": "markdown",
   "metadata": {},
   "source": [
    "## Dealing with Null Values\n",
    "\n",
    "Starting in the cell below, detect and deal with any null values in either data frame.  Then, explain your methodology for detecting and dealing with outliers in the markdown section below.  Be sure to explain your strategy for dealing with null values in numeric columns, as well as your strategy for dealing with null values in non-numeric columns.  \n",
    "\n",
    "Note that if you need to add more cells to write code in, you can do this by:\n",
    "\n",
    "**1.** Highlighting a cell and then pressing `ESC` to enter command mode.  \n",
    "**2.** Press `A` to add a cell above the highlighted cell, or `B` to add a cell below the highlighted cell. \n",
    "\n",
    "Describe your strategy below this line:\n",
    "____________________________________________________________________________________________________________________________\n",
    "\n",
    "powers_df had no null values\n",
    "\n",
    "heroes_df had `-` as null for categorical values and `-99` as null for numerical values (e.g., Height, Weight). Categorical null was replaced with `NaN` and numerical null was replaced with the median of the column.\n",
    "\n",
    "King Kong had a weight of `NaN` and his actual weight is 20-60 tons, which would be a far outlier. So, `NaN` was kept and in data viz/processing of weights, King Kong is excluded\n",
    "\n"
   ]
  },
  {
   "cell_type": "code",
   "execution_count": 5,
   "metadata": {},
   "outputs": [],
   "source": [
    "heroes_df.columns.str.replace(' ', '_')\n",
    "# Address everything but height and weight\n",
    "heroes_df.replace('-', 'NaN', inplace= True)"
   ]
  },
  {
   "cell_type": "code",
   "execution_count": 6,
   "metadata": {},
   "outputs": [],
   "source": [
    "# Replaceing Height null value with median height\n",
    "heroes_df.Height.replace(-99.0,heroes_df.Height.median(), inplace= True)\n",
    "#heroes_df.Height.value_counts()\n"
   ]
  },
  {
   "cell_type": "code",
   "execution_count": 7,
   "metadata": {},
   "outputs": [],
   "source": [
    "# Replaceing Weight null value with median weight\n",
    "heroes_df.Weight.replace(-99.0,heroes_df.Weight.median(), inplace= True)\n"
   ]
  },
  {
   "cell_type": "markdown",
   "metadata": {},
   "source": [
    "## Joining, Grouping, and Aggregating\n",
    "\n",
    "In the cell below, join the two DataFrames.  Think about which sort of join you should use, as well as which columns you should join on.  Rename columns and manipulate as needed.  \n",
    "\n",
    "**_HINT:_** If the join throws an error message, consider settin the the column you want to join on as the index for each DataFrame.  "
   ]
  },
  {
   "cell_type": "code",
   "execution_count": 8,
   "metadata": {},
   "outputs": [
    {
     "data": {
      "text/html": [
       "<div>\n",
       "<style scoped>\n",
       "    .dataframe tbody tr th:only-of-type {\n",
       "        vertical-align: middle;\n",
       "    }\n",
       "\n",
       "    .dataframe tbody tr th {\n",
       "        vertical-align: top;\n",
       "    }\n",
       "\n",
       "    .dataframe thead th {\n",
       "        text-align: right;\n",
       "    }\n",
       "</style>\n",
       "<table border=\"1\" class=\"dataframe\">\n",
       "  <thead>\n",
       "    <tr style=\"text-align: right;\">\n",
       "      <th></th>\n",
       "      <th>Gender</th>\n",
       "      <th>Eye color</th>\n",
       "      <th>Race</th>\n",
       "      <th>Hair color</th>\n",
       "      <th>Height</th>\n",
       "      <th>Publisher</th>\n",
       "      <th>Skin color</th>\n",
       "      <th>Alignment</th>\n",
       "      <th>Weight</th>\n",
       "      <th>Agility</th>\n",
       "      <th>...</th>\n",
       "      <th>Web Creation</th>\n",
       "      <th>Reality Warping</th>\n",
       "      <th>Odin Force</th>\n",
       "      <th>Symbiote Costume</th>\n",
       "      <th>Speed Force</th>\n",
       "      <th>Phoenix Force</th>\n",
       "      <th>Molecular Dissipation</th>\n",
       "      <th>Vision - Cryo</th>\n",
       "      <th>Omnipresent</th>\n",
       "      <th>Omniscient</th>\n",
       "    </tr>\n",
       "  </thead>\n",
       "  <tbody>\n",
       "    <tr>\n",
       "      <th>A-Bomb</th>\n",
       "      <td>Male</td>\n",
       "      <td>yellow</td>\n",
       "      <td>Human</td>\n",
       "      <td>No Hair</td>\n",
       "      <td>203.0</td>\n",
       "      <td>Marvel Comics</td>\n",
       "      <td>NaN</td>\n",
       "      <td>good</td>\n",
       "      <td>441.0</td>\n",
       "      <td>False</td>\n",
       "      <td>...</td>\n",
       "      <td>False</td>\n",
       "      <td>False</td>\n",
       "      <td>False</td>\n",
       "      <td>False</td>\n",
       "      <td>False</td>\n",
       "      <td>False</td>\n",
       "      <td>False</td>\n",
       "      <td>False</td>\n",
       "      <td>False</td>\n",
       "      <td>False</td>\n",
       "    </tr>\n",
       "    <tr>\n",
       "      <th>Abe Sapien</th>\n",
       "      <td>Male</td>\n",
       "      <td>blue</td>\n",
       "      <td>Icthyo Sapien</td>\n",
       "      <td>No Hair</td>\n",
       "      <td>191.0</td>\n",
       "      <td>Dark Horse Comics</td>\n",
       "      <td>blue</td>\n",
       "      <td>good</td>\n",
       "      <td>65.0</td>\n",
       "      <td>True</td>\n",
       "      <td>...</td>\n",
       "      <td>False</td>\n",
       "      <td>False</td>\n",
       "      <td>False</td>\n",
       "      <td>False</td>\n",
       "      <td>False</td>\n",
       "      <td>False</td>\n",
       "      <td>False</td>\n",
       "      <td>False</td>\n",
       "      <td>False</td>\n",
       "      <td>False</td>\n",
       "    </tr>\n",
       "    <tr>\n",
       "      <th>Abin Sur</th>\n",
       "      <td>Male</td>\n",
       "      <td>blue</td>\n",
       "      <td>Ungaran</td>\n",
       "      <td>No Hair</td>\n",
       "      <td>185.0</td>\n",
       "      <td>DC Comics</td>\n",
       "      <td>red</td>\n",
       "      <td>good</td>\n",
       "      <td>90.0</td>\n",
       "      <td>False</td>\n",
       "      <td>...</td>\n",
       "      <td>False</td>\n",
       "      <td>False</td>\n",
       "      <td>False</td>\n",
       "      <td>False</td>\n",
       "      <td>False</td>\n",
       "      <td>False</td>\n",
       "      <td>False</td>\n",
       "      <td>False</td>\n",
       "      <td>False</td>\n",
       "      <td>False</td>\n",
       "    </tr>\n",
       "    <tr>\n",
       "      <th>Abomination</th>\n",
       "      <td>Male</td>\n",
       "      <td>green</td>\n",
       "      <td>Human / Radiation</td>\n",
       "      <td>No Hair</td>\n",
       "      <td>203.0</td>\n",
       "      <td>Marvel Comics</td>\n",
       "      <td>NaN</td>\n",
       "      <td>bad</td>\n",
       "      <td>441.0</td>\n",
       "      <td>False</td>\n",
       "      <td>...</td>\n",
       "      <td>False</td>\n",
       "      <td>False</td>\n",
       "      <td>False</td>\n",
       "      <td>False</td>\n",
       "      <td>False</td>\n",
       "      <td>False</td>\n",
       "      <td>False</td>\n",
       "      <td>False</td>\n",
       "      <td>False</td>\n",
       "      <td>False</td>\n",
       "    </tr>\n",
       "    <tr>\n",
       "      <th>Abraxas</th>\n",
       "      <td>Male</td>\n",
       "      <td>blue</td>\n",
       "      <td>Cosmic Entity</td>\n",
       "      <td>Black</td>\n",
       "      <td>175.0</td>\n",
       "      <td>Marvel Comics</td>\n",
       "      <td>NaN</td>\n",
       "      <td>bad</td>\n",
       "      <td>62.0</td>\n",
       "      <td>False</td>\n",
       "      <td>...</td>\n",
       "      <td>False</td>\n",
       "      <td>False</td>\n",
       "      <td>False</td>\n",
       "      <td>False</td>\n",
       "      <td>False</td>\n",
       "      <td>False</td>\n",
       "      <td>False</td>\n",
       "      <td>False</td>\n",
       "      <td>False</td>\n",
       "      <td>False</td>\n",
       "    </tr>\n",
       "  </tbody>\n",
       "</table>\n",
       "<p>5 rows × 176 columns</p>\n",
       "</div>"
      ],
      "text/plain": [
       "            Gender Eye color               Race Hair color  Height  \\\n",
       "A-Bomb        Male    yellow              Human    No Hair   203.0   \n",
       "Abe Sapien    Male      blue      Icthyo Sapien    No Hair   191.0   \n",
       "Abin Sur      Male      blue            Ungaran    No Hair   185.0   \n",
       "Abomination   Male     green  Human / Radiation    No Hair   203.0   \n",
       "Abraxas       Male      blue      Cosmic Entity      Black   175.0   \n",
       "\n",
       "                     Publisher Skin color Alignment  Weight  Agility  \\\n",
       "A-Bomb           Marvel Comics        NaN      good   441.0    False   \n",
       "Abe Sapien   Dark Horse Comics       blue      good    65.0     True   \n",
       "Abin Sur             DC Comics        red      good    90.0    False   \n",
       "Abomination      Marvel Comics        NaN       bad   441.0    False   \n",
       "Abraxas          Marvel Comics        NaN       bad    62.0    False   \n",
       "\n",
       "                ...      Web Creation  Reality Warping  Odin Force  \\\n",
       "A-Bomb          ...             False            False       False   \n",
       "Abe Sapien      ...             False            False       False   \n",
       "Abin Sur        ...             False            False       False   \n",
       "Abomination     ...             False            False       False   \n",
       "Abraxas         ...             False            False       False   \n",
       "\n",
       "             Symbiote Costume  Speed Force  Phoenix Force  \\\n",
       "A-Bomb                  False        False          False   \n",
       "Abe Sapien              False        False          False   \n",
       "Abin Sur                False        False          False   \n",
       "Abomination             False        False          False   \n",
       "Abraxas                 False        False          False   \n",
       "\n",
       "             Molecular Dissipation  Vision - Cryo  Omnipresent  Omniscient  \n",
       "A-Bomb                       False          False        False       False  \n",
       "Abe Sapien                   False          False        False       False  \n",
       "Abin Sur                     False          False        False       False  \n",
       "Abomination                  False          False        False       False  \n",
       "Abraxas                      False          False        False       False  \n",
       "\n",
       "[5 rows x 176 columns]"
      ]
     },
     "execution_count": 8,
     "metadata": {},
     "output_type": "execute_result"
    }
   ],
   "source": [
    "heroes_df.set_index('name', inplace=True)\n",
    "powers_df.set_index('hero_names', inplace=True)\n",
    "hero_powers = heroes_df.join(powers_df, how = 'inner')\n",
    "hero_powers.head()"
   ]
  },
  {
   "cell_type": "code",
   "execution_count": 9,
   "metadata": {},
   "outputs": [
    {
     "data": {
      "text/plain": [
       "True"
      ]
     },
     "execution_count": 9,
     "metadata": {},
     "output_type": "execute_result"
    }
   ],
   "source": [
    "# Inner join along matching indices. `powers_df` has more rows than the joined matrix; heroes_df has more rows than powers_df\n",
    "len(powers_df) > len(hero_powers)\n",
    "len(powers_df) < len(heroes_df)"
   ]
  },
  {
   "cell_type": "code",
   "execution_count": null,
   "metadata": {},
   "outputs": [],
   "source": []
  },
  {
   "cell_type": "markdown",
   "metadata": {},
   "source": [
    "In the cell below, subset male and female heroes into different dataframes.  Create a scatterplot of the height and weight of each hero, with weight as the y-axis.  Plot both the male and female heroes subset into each dataframe, and make the color for each point in the scatterplot correspond to the gender of the superhero."
   ]
  },
  {
   "cell_type": "code",
   "execution_count": 10,
   "metadata": {},
   "outputs": [],
   "source": [
    "m_heroes = hero_powers[hero_powers['Gender']== 'Male']\n",
    "#m_heroes.head()\n",
    "f_heroes = hero_powers[hero_powers['Gender']== 'Female']\n",
    "#f_heroes.head()"
   ]
  },
  {
   "cell_type": "code",
   "execution_count": 11,
   "metadata": {},
   "outputs": [
    {
     "data": {
      "image/png": "[encoded data removed]",
      "text/plain": [
       "<Figure size 432x288 with 1 Axes>"
      ]
     },
     "metadata": {
      "needs_background": "light"
     },
     "output_type": "display_data"
    }
   ],
   "source": [
    "# Graphs\n",
    "plt.scatter(m_heroes.Height,m_heroes.Weight, c = 'blue')\n",
    "plt.scatter(f_heroes.Height,f_heroes.Weight, c = 'red')\n",
    "plt.show()"
   ]
  },
  {
   "cell_type": "markdown",
   "metadata": {},
   "source": [
    "## Some Initial Investigation\n",
    "\n",
    "Next, slice the DataFrame as needed and visualize the distribution of heights and weights by gender.  You should have 4 total plots.  \n",
    "\n",
    "In the cell below:\n",
    "\n",
    "* Slice the DataFrame into separate DataFrames by gender\n",
    "* Complete the `show_distplot` function.  This helper function should take in a DataFrame, a string containing the gender we want to visualize, and and the column name we want to visualize by gender. The function should display a distplot visualization from seaborn of the column/gender combination.  \n",
    "\n",
    "Hint: Don't forget to check the [seaborn documentation for distplot](https://seaborn.pydata.org/generated/seaborn.distplot.html) if you have questions about how to use it correctly! "
   ]
  },
  {
   "cell_type": "code",
   "execution_count": 12,
   "metadata": {},
   "outputs": [],
   "source": [
    "male_heroes_df = m_heroes\n",
    "female_heroes_df = f_heroes\n",
    "\n",
    "def show_distplot(dataframe, gender, column_name):\n",
    "    sns.distplot(dataframe.column_name)\n",
    "    plt.tight_layout\n",
    "    pass"
   ]
  },
  {
   "cell_type": "code",
   "execution_count": 13,
   "metadata": {},
   "outputs": [],
   "source": [
    "# Male Height\n",
    "m_height = male_heroes_df.Height\n",
    "\n",
    "#fig = plt.figure()\n",
    "#ax1 = fig.add_subplot(2,2,1)\n",
    "#ax1 = sns.distplot(m_height, axlabel= 'm_height')\n"
   ]
  },
  {
   "cell_type": "code",
   "execution_count": 14,
   "metadata": {},
   "outputs": [],
   "source": [
    "# Male Weight\n",
    "\n",
    "m_weight = male_heroes_df.Weight\n",
    "#ax2 = fig.add_subplot(2,2,2)\n",
    "#ax2 = sns.distplot(m_weight[m_weight.notna()], axlabel= 'm_weight')\n",
    "#fig"
   ]
  },
  {
   "cell_type": "code",
   "execution_count": 15,
   "metadata": {},
   "outputs": [],
   "source": [
    "# Female Height\n",
    "f_height = female_heroes_df.Height\n",
    "#ax3 = fig.add_subplot(2,2,3)\n",
    "#ax3 = sns.distplot(f_height, axlabel= 'f_height')\n",
    "#fig"
   ]
  },
  {
   "cell_type": "code",
   "execution_count": 16,
   "metadata": {},
   "outputs": [
    {
     "name": "stdout",
     "output_type": "stream",
     "text": [
      "count    463.000000\n",
      "mean     107.276458\n",
      "std       98.896975\n",
      "min        2.000000\n",
      "25%       62.000000\n",
      "50%       79.000000\n",
      "75%      101.000000\n",
      "max      900.000000\n",
      "Name: Weight, dtype: float64 count    464.000000\n",
      "mean     187.946121\n",
      "std       60.662029\n",
      "min       15.200000\n",
      "25%      175.000000\n",
      "50%      183.000000\n",
      "75%      188.000000\n",
      "max      975.000000\n",
      "Name: Height, dtype: float64 count    178.000000\n",
      "mean      75.544944\n",
      "std       69.006515\n",
      "min       41.000000\n",
      "25%       54.000000\n",
      "50%       61.000000\n",
      "75%       62.000000\n",
      "max      630.000000\n",
      "Name: Weight, dtype: float64 count    178.000000\n",
      "mean     174.806180\n",
      "std       21.283341\n",
      "min       62.500000\n",
      "25%      168.000000\n",
      "50%      175.000000\n",
      "75%      175.000000\n",
      "max      366.000000\n",
      "Name: Height, dtype: float64\n"
     ]
    }
   ],
   "source": [
    "# Female Weight\n",
    "f_weight = female_heroes_df.Weight\n",
    "#ax[1,1] = sns.distplot(f_weight, axlabel= 'f_weight')\n",
    "#fig\n",
    "\n",
    "print(m_weight.describe(), m_height.describe(), f_weight.describe(), f_height.describe())"
   ]
  },
  {
   "cell_type": "code",
   "execution_count": 17,
   "metadata": {},
   "outputs": [
    {
     "name": "stderr",
     "output_type": "stream",
     "text": [
      "C:\\Users\\Mike\\AppData\\Local\\conda\\conda\\envs\\learn-env\\lib\\site-packages\\scipy\\stats\\stats.py:1713: FutureWarning: Using a non-tuple sequence for multidimensional indexing is deprecated; use `arr[tuple(seq)]` instead of `arr[seq]`. In the future this will be interpreted as an array index, `arr[np.array(seq)]`, which will result either in an error or a different result.\n",
      "  return np.add.reduce(sorted[indexer] * weights, axis=axis) / sumval\n"
     ]
    },
    {
     "data": {
      "text/plain": [
       "<function matplotlib.pyplot.tight_layout(pad=1.08, h_pad=None, w_pad=None, rect=None)>"
      ]
     },
     "execution_count": 17,
     "metadata": {},
     "output_type": "execute_result"
    },
    {
     "data": {
      "image/png": "[encoded data removed]",
      "text/plain": [
       "<Figure size 432x288 with 4 Axes>"
      ]
     },
     "metadata": {
      "needs_background": "light"
     },
     "output_type": "display_data"
    }
   ],
   "source": [
    "fig, axes = plt.subplots(2, 2)\n",
    "sns.distplot(m_height, axlabel= 'm_height', ax=axes[0,0])\n",
    "sns.distplot(m_weight[m_weight.notna()], axlabel= 'm_weight', ax=axes[0,1])\n",
    "sns.distplot(f_height, axlabel= 'f_height', ax=axes[1,0])\n",
    "sns.distplot(f_weight, axlabel= 'f_weight', ax=axes[1,1])\n",
    "plt.tight_layout"
   ]
  },
  {
   "cell_type": "markdown",
   "metadata": {},
   "source": [
    "Discuss your findings from the plots above, with respect to the distibution of height and weight by gender.  Your explanation should include discussion of any relevant summary statistics, including mean, median, mode, and the overall shape of each distribution.  \n",
    "\n",
    "Wite your answer below this line:\n",
    "____________________________________________________________________________________________________________________________\n",
    "\n",
    "\n",
    "Male superheroes had a greater mean, median, and more height and weight than female superheroes.\n"
   ]
  },
  {
   "cell_type": "code",
   "execution_count": 18,
   "metadata": {},
   "outputs": [
    {
     "name": "stdout",
     "output_type": "stream",
     "text": [
      "Male Weight \n",
      " Mean: 107 \n",
      " Median: 79.0 \n",
      " Mode: 62.0 \n",
      " Right skewed \n",
      "\n",
      "Male Height \n",
      " Mean: 188 \n",
      " Median: 183.0 \n",
      " Mode: 175.0 \n",
      " Left skewed \n",
      "\n",
      "Female Weight \n",
      " Mean: 76 \n",
      " Median: 61.0 \n",
      " Mode: 62.0 \n",
      " Left skewed \n",
      "\n",
      "Female Height \n",
      " Mean: 175 \n",
      " Median: 175.0 \n",
      " Mode: 175.0 \n",
      " Left skewed \n",
      "\n"
     ]
    }
   ],
   "source": [
    "# Summary info\n",
    "print(\"Male Weight\",'\\n','Mean:', '%.0f' % m_weight.mean(), '\\n', 'Median:', m_weight.median(), '\\n', 'Mode:', max(m_weight.mode()), '\\n', \"Right skewed\", '\\n')\n",
    "print(\"Male Height\",'\\n','Mean:', '%.0f' % m_height.mean(), '\\n', 'Median:', m_height.median(), '\\n', 'Mode:', max(m_height.mode()), '\\n', \"Left skewed\", '\\n')\n",
    "print(\"Female Weight\",'\\n','Mean:', '%.0f' % f_weight.mean(), '\\n', 'Median:', f_weight.median(), '\\n', 'Mode:', max(f_weight.mode()), '\\n', \"Left skewed\", '\\n')\n",
    "print(\"Female Height\",'\\n','Mean:', '%.0f' % f_height.mean(), '\\n', 'Median:', f_height.median(), '\\n', 'Mode:', max(f_height.mode()), '\\n', \"Left skewed\", '\\n')"
   ]
  },
  {
   "cell_type": "markdown",
   "metadata": {},
   "source": [
    "### Sample Question: Most Common Powers\n",
    "\n",
    "The rest of this notebook will be left to you to investigate the dataset by formulating your own questions, and then seeking answers using pandas and numpy.  Every answer should include some sort of visualization, when appropriate. Before moving on to formulating your own questions, use the dataset to answer the following questions about superhero powers:\n",
    "\n",
    "* What are the 5 most common powers overall?\n",
    "* What are the 5 most common powers in the Marvel Universe?\n",
    "* What are the 5 most common powers in the DC Universe?"
   ]
  },
  {
   "cell_type": "code",
   "execution_count": 19,
   "metadata": {},
   "outputs": [
    {
     "name": "stdout",
     "output_type": "stream",
     "text": [
      "5 most common powers overall are ['Super Strength', 'Stamina', 'Durability', 'Super Speed', 'Agility']\n"
     ]
    }
   ],
   "source": [
    "# Most Common Powers\n",
    "df1 = pd.DataFrame(powers_df.sum())\n",
    "df1.columns = ['col1']\n",
    "top_pow = df1.sort_values(by = ['col1'], ascending = False) #drop_duplicates(subset = 'col1').\n",
    "print(\"5 most common powers overall are\", list(top_pow.index[:5]))\n"
   ]
  },
  {
   "cell_type": "code",
   "execution_count": 20,
   "metadata": {},
   "outputs": [
    {
     "name": "stdout",
     "output_type": "stream",
     "text": [
      "5 most common powers in the Marvel Universe are ['Super Strength', 'Durability', 'Stamina', 'Super Speed', 'Agility']\n"
     ]
    }
   ],
   "source": [
    "# 5 Most Common in Marvel Universe\n",
    "marvel_power = hero_powers[hero_powers['Publisher']==\"Marvel Comics\"]\n",
    "marvel_top_pow = pd.DataFrame(marvel_power.loc[:,'Agility':].sum())\n",
    "marvel_top_pow.columns = ['col1']\n",
    "marvel_top_pow = marvel_top_pow.sort_values(by = ['col1'], ascending = False) #drop_duplicates(subset = 'col1').\n",
    "print(\"5 most common powers in the Marvel Universe are\", list(marvel_top_pow.index[:5]))\n"
   ]
  },
  {
   "cell_type": "code",
   "execution_count": 21,
   "metadata": {},
   "outputs": [
    {
     "name": "stdout",
     "output_type": "stream",
     "text": [
      "5 most common powers in the DC Universe are ['Super Strength', 'Stamina', 'Flight', 'Super Speed', 'Durability']\n"
     ]
    }
   ],
   "source": [
    "# 5 Most Common in DC Universe\n",
    "DC_power = hero_powers[hero_powers['Publisher']==\"DC Comics\"]\n",
    "DC_top_pow = pd.DataFrame(DC_power.loc[:,'Agility':].sum())\n",
    "DC_top_pow.columns = ['col1']\n",
    "DC_top_pow = DC_top_pow.sort_values(by = ['col1'], ascending = False) #drop_duplicates(subset = 'col1').\n",
    "print(\"5 most common powers in the DC Universe are\", list(DC_top_pow.index[:5]))\n"
   ]
  },
  {
   "cell_type": "code",
   "execution_count": null,
   "metadata": {},
   "outputs": [],
   "source": []
  },
  {
   "cell_type": "markdown",
   "metadata": {},
   "source": [
    "Analyze the results you found above to answer the following question:\n",
    "\n",
    "How do the top 5 powers in the Marvel and DC universes compare?  Are they similar, or are there significant differences? How do they compare to the overall trends in the entire Superheroes dataset?\n",
    "\n",
    "Wite your answer below this line:\n",
    "____________________________________________________________________________________________________________________________\n",
    "\n",
    "Top 5 overall powers and Top 5 Marvel powers are identical- but in different order. DC Universe has 4 shared powers, but  Flight was 3rd, kicking Agility out of the Top 5.\n",
    "\n",
    "\n",
    "### Your Own Investigation\n",
    "\n",
    "For the remainder of this lab, you'll be focusing on coming up with and answering your own question, just like we did above.  Your question should not be overly simple, and should require both descriptive statistics and data visualization to answer.  In case you're unsure of what questions to ask, some sample questions have been provided below.\n",
    "\n",
    "Pick one of the following questions to investigate and answer, or come up with one of your own!\n",
    "\n",
    "* Which powers have the highest chance of co-occuring in a hero (e.g. super strength and flight), and does this differ by gender?\n",
    "* Is there a relationship between a hero's height and weight and their powerset?\n",
    "* What is the distribution of skin colors amongst alien heroes?\n",
    "\n",
    "Explain your question below this line:\n",
    "____________________________________________________________________________________________________________________________\n",
    "\n",
    "* Which powers have the highest chance of co-occuring in a hero (e.g. super strength and flight), and does this differ by gender?\n",
    "\n",
    "Some sample cells have been provided to give you room to work. If you need to create more cells, you can do this easily by:\n",
    "\n",
    "1. Highlighting a cell and then pressing `esc` to enter command mode.\n",
    "1. Pressing `b` to add a cell below the currently highlighted cell, or `a` to add one above it.  \n",
    "\n",
    "Be sure to include thoughtful, well-labeled visualizations to back up your analysis!"
   ]
  },
  {
   "cell_type": "code",
   "execution_count": 22,
   "metadata": {},
   "outputs": [],
   "source": [
    "# Which powers have the highest chance of co-occuring in a hero (e.g. super strength and flight), and does this differ by gender?\n",
    "multi_power= powers_df[powers_df.sum(axis = 1)>1]"
   ]
  },
  {
   "cell_type": "code",
   "execution_count": 23,
   "metadata": {},
   "outputs": [
    {
     "name": "stdout",
     "output_type": "stream",
     "text": [
      "Top 10 pairs of powers most likely to be in combination across all superheroes: \n",
      " [('Omnipresent', 'Omniscient'), ('Hyperkinesis', 'Spatial Awareness'), ('Intuitive aptitude', 'Melting'), ('Vision - Heat', 'Vision - X-Ray'), ('Vision - Microscopic', 'Vision - X-Ray'), ('Vision - Microscopic', 'Vision - Heat'), ('Radiation Control', 'Radiation Absorption'), ('Super Breath', 'Vision - Heat'), ('Vision - Microscopic', 'Super Breath'), ('Time Travel', 'Time Manipulation')]\n"
     ]
    }
   ],
   "source": [
    "pow_cor = pd.DataFrame(multi_power.corr())\n",
    "pow_cor_up = pow_cor.where(np.triu(np.ones(pow_cor.shape), k=1).astype(np.bool))\n",
    "pow_cor_up = pow_cor_up.stack().sort_values(ascending = False)\n",
    "pow_cor_up_df = pd.DataFrame(pow_cor_up)\n",
    "print(\"Top 10 pairs of powers most likely to be in combination across all superheroes:\", \"\\n\", list(pow_cor_up_df.index)[:10])"
   ]
  },
  {
   "cell_type": "code",
   "execution_count": 24,
   "metadata": {},
   "outputs": [
    {
     "name": "stdout",
     "output_type": "stream",
     "text": [
      "Top 10 pairs of powers most likely to be in combination for male superheroes: \n",
      " [('Hyperkinesis', 'Spatial Awareness'), ('Intuitive aptitude', 'Melting'), ('Power Sense', 'Projection'), ('Molecular Combustion', 'Vitakinesis'), ('Vision - Microscopic', 'Vision - X-Ray'), ('Web Creation', 'Symbiote Costume'), ('Vision - Heat', 'Vision - X-Ray'), ('Vision - Microscopic', 'Vision - Heat'), ('Weather Control', 'Odin Force'), ('Super Breath', 'Vision - Heat')]\n"
     ]
    }
   ],
   "source": [
    "# Gender-based Powers Distributions\n",
    "mal_cor = hero_powers[hero_powers.Gender=='Male'].iloc[:,9:len(hero_powers.columns)]\n",
    "mal_cor = pd.DataFrame(mal_cor.corr())\n",
    "mal_cor_up = mal_cor.where(np.triu(np.ones(mal_cor.shape), k=1).astype(np.bool))\n",
    "mal_cor_up = mal_cor_up.stack().sort_values(ascending = False)\n",
    "mal_cor_up_df = pd.DataFrame(mal_cor_up)\n",
    "print(\"Top 10 pairs of powers most likely to be in combination for male superheroes:\", \"\\n\", list(mal_cor_up_df.index)[:10])"
   ]
  },
  {
   "cell_type": "code",
   "execution_count": 25,
   "metadata": {},
   "outputs": [
    {
     "name": "stdout",
     "output_type": "stream",
     "text": [
      "Top 10 pairs of powers most likely to be in combination for female superheroes: \n",
      " [('Dimensional Awareness', 'Reality Warping'), ('Illumination', 'Molecular Combustion'), ('Vision - Infrared', 'Vision - Thermal'), ('Vision - Telescopic', 'Vision - Microscopic'), ('Resurrection', 'Phoenix Force'), ('Power Augmentation', 'Power Sense'), ('Terrakinesis', 'Weather Control'), ('Underwater breathing', 'Sub-Mariner'), ('Dimensional Travel', 'Sub-Mariner'), ('Super Breath', 'Vision - Heat')]\n"
     ]
    }
   ],
   "source": [
    "# Gender-based Powers Distributions\n",
    "femal_cor = hero_powers[hero_powers.Gender=='Female'].iloc[:,9:len(hero_powers.columns)]\n",
    "femal_cor = pd.DataFrame(femal_cor.corr())\n",
    "femal_cor_up = femal_cor.where(np.triu(np.ones(femal_cor.shape), k=1).astype(np.bool))\n",
    "femal_cor_up = femal_cor_up.stack().sort_values(ascending = False)\n",
    "femal_cor_up_df = pd.DataFrame(femal_cor_up)\n",
    "print(\"Top 10 pairs of powers most likely to be in combination for female superheroes:\", \"\\n\", list(femal_cor_up_df.index)[:10])"
   ]
  },
  {
   "cell_type": "code",
   "execution_count": 26,
   "metadata": {},
   "outputs": [
    {
     "data": {
      "text/plain": [
       "<function matplotlib.pyplot.tight_layout(pad=1.08, h_pad=None, w_pad=None, rect=None)>"
      ]
     },
     "execution_count": 26,
     "metadata": {},
     "output_type": "execute_result"
    },
    {
     "data": {
      "image/png": "[encoded data removed]",
      "text/plain": [
       "<Figure size 360x720 with 3 Axes>"
      ]
     },
     "metadata": {
      "needs_background": "light"
     },
     "output_type": "display_data"
    }
   ],
   "source": [
    "fig2, (ax_a, ax_m, ax_f) = plt.subplots(3, 1, sharex= True, figsize = [5,10])\n",
    "\n",
    "pow_cor_up[:10].plot(kind='barh', ax = ax_a)\n",
    "mal_cor_up[:10].plot(kind='barh', ax = ax_m)\n",
    "femal_cor_up[:10].plot(kind='barh', ax = ax_f)\n",
    "\n",
    "ax_a.set_title('All Genders')\n",
    "ax_m.set_title('Males')\n",
    "ax_f.set_title('Females')\n",
    "\n",
    "plt.tight_layout"
   ]
  },
  {
   "cell_type": "code",
   "execution_count": null,
   "metadata": {},
   "outputs": [],
   "source": []
  },
  {
   "cell_type": "markdown",
   "metadata": {},
   "source": [
    "## Summary\n",
    "\n",
    "In this lab, we demonstrated our mastery of:\n",
    "* Using all of our Pandas knowledge to date to clean the dataset and deal with null values\n",
    "* Using Queries and aggregations to group the data into interesting subsets as needed\n",
    "* Using descriptive statistics and data visualization to find answers to questions we may have about the data"
   ]
  }
 ],
 "metadata": {
  "kernelspec": {
   "display_name": "learn-env",
   "language": "python",
   "name": "learn-env"
  },
  "language_info": {
   "codemirror_mode": {
    "name": "ipython",
    "version": 3
   },
   "file_extension": ".py",
   "mimetype": "text/x-python",
   "name": "python",
   "nbconvert_exporter": "python",
   "pygments_lexer": "ipython3",
   "version": "3.6.6"
  }
 },
 "nbformat": 4,
 "nbformat_minor": 2
}
